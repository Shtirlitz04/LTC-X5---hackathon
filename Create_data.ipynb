{
 "cells": [
  {
   "cell_type": "code",
   "execution_count": 24,
   "id": "74ff66bc",
   "metadata": {},
   "outputs": [],
   "source": [
    "import re\n",
    "import csv\n",
    "import random"
   ]
  },
  {
   "cell_type": "code",
   "execution_count": 25,
   "id": "158b80c3",
   "metadata": {},
   "outputs": [],
   "source": [
    "# список продуктов\n",
    "words = [\"ряженка\", \"кефир\", \"йогурт\", \"молоко\", \"творог\", \"сливки\", \"сливочное масло\", \"сметана\", \"сыр\"]\n",
    "\n",
    "# список брендов\n",
    "brands = [\"Простоквашино\", \"Домик в деревне\", \"Веселый молочник\", \"Savushkin\"]\n",
    "\n",
    "# список процентов (включая слитные формы и без %)\n",
    "percents = [\"3.2 %\", \"8.5 %\", \"1 %\", \"10 %\", \"2 процентов\", \"12.5 процентов\", \"13.5%\", \"5%\", \"4\", \"3.2\"]\n",
    "\n",
    "# список объемов\n",
    "volumes = []\n",
    "\n",
    "# имя выходного csv\n",
    "outfile = \"train_new_percent.csv\""
   ]
  },
  {
   "cell_type": "code",
   "execution_count": null,
   "id": "293c647c",
   "metadata": {},
   "outputs": [],
   "source": [
    "# список продуктов\n",
    "words = []\n",
    "\n",
    "# список брендов\n",
    "brands = []\n",
    "\n",
    "# список процентов (включая слитные формы и без %)\n",
    "percents = []\n",
    "\n",
    "# список объемов\n",
    "volumes = []\n",
    "\n",
    "# имя выходного csv\n",
    "outfile = \"train_new_volume.csv\""
   ]
  },
  {
   "cell_type": "code",
   "execution_count": 26,
   "id": "7d5dec59",
   "metadata": {},
   "outputs": [],
   "source": [
    "# регулярки\n",
    "percent_re = re.compile(r\"\\d+(\\.\\d+)?\\s*%|\\d+(\\.\\d+)?%|\\d+(\\.\\d+)?\\s+процентов|\\d+(\\.\\d+)?\")\n",
    "volume_re = re.compile(\n",
    "    r\"\\d+(\\.\\d+)?\\s*(л|литр(а|ов)?|мл|г|грамм(а|ов)?|кг|килограмм(а|ов)?)\"\n",
    "    r\"|\\d+(\\.\\d+)?(л|литр(а|ов)?|мл|г|грамм(а|ов)?|кг|килограмм(а|ов)?)\"\n",
    ")"
   ]
  },
  {
   "cell_type": "code",
   "execution_count": 27,
   "id": "2cc6c35e",
   "metadata": {},
   "outputs": [],
   "source": [
    "def annotate_multitoken(text, span, label):\n",
    "    \"\"\"\n",
    "    Делает BIO-разметку для многословных сущностей\n",
    "    span = (start, end)\n",
    "    \"\"\"\n",
    "    result = []\n",
    "    substring = text[span[0]:span[1]]\n",
    "    parts = substring.split(\" \")\n",
    "    offset = span[0]\n",
    "    for i, p in enumerate(parts):\n",
    "        start = offset\n",
    "        end = start + len(p)\n",
    "        if i == 0:\n",
    "            result.append((start, end, f\"B-{label}\"))\n",
    "        else:\n",
    "            result.append((start, end, f\"I-{label}\"))\n",
    "        offset = end + 1  # +1 за пробел\n",
    "    return result"
   ]
  },
  {
   "cell_type": "code",
   "execution_count": 28,
   "id": "1c222b4a",
   "metadata": {},
   "outputs": [],
   "source": [
    "def annotate_percent(text):\n",
    "    \"\"\"Аннотация процентов\"\"\"\n",
    "    annotations = []\n",
    "    for m in percent_re.finditer(text):\n",
    "        s, e = m.span()\n",
    "        token = m.group()\n",
    "\n",
    "        if token.endswith(\"%\") and not token.endswith(\" %\"):  # слитная форма\n",
    "            annotations.append((s, e, \"B-PERCENT\"))\n",
    "        elif \"%\" in token and \" \" in token:  # число + пробел + %\n",
    "            num_match = re.match(r\"\\d+(\\.\\d+)?\", token)\n",
    "            if num_match:\n",
    "                num_end = s + len(num_match.group())\n",
    "                annotations.append((s, num_end, \"B-PERCENT\"))\n",
    "                annotations.append((num_end + 1, e, \"I-PERCENT\"))\n",
    "        elif \"процентов\" in token:\n",
    "            num_match = re.match(r\"\\d+(\\.\\d+)?\", token)\n",
    "            if num_match:\n",
    "                num_end = s + len(num_match.group())\n",
    "                annotations.append((s, num_end, \"B-PERCENT\"))\n",
    "                word_pos = text.find(\"процентов\", s, e)\n",
    "                if word_pos != -1:\n",
    "                    annotations.append((word_pos, word_pos + len(\"процентов\"), \"I-PERCENT\"))\n",
    "        else:  # просто число\n",
    "            annotations.append((s, e, \"B-PERCENT\"))\n",
    "    return annotations"
   ]
  },
  {
   "cell_type": "code",
   "execution_count": 29,
   "id": "b809f4d4",
   "metadata": {},
   "outputs": [],
   "source": [
    "def annotate_volume(text):\n",
    "    \"\"\"Аннотация объёмов и масс с BIO-разметкой\"\"\"\n",
    "    annotations = []\n",
    "    for m in volume_re.finditer(text):\n",
    "        s, e = m.span()\n",
    "        token = m.group()\n",
    "\n",
    "        # если число и единица слитно, например \"200мл\" или \"1кг\"\n",
    "        if re.match(r\"\\d+(\\.\\d+)?(л|литр(а|ов)?|мл|г|грамм(а|ов)?|кг|килограмм(а|ов)?)\", token):\n",
    "            annotations.append((s, e, \"B-VOLUME\"))\n",
    "\n",
    "        # если через пробел: \"200 мл\", \"1 литр\", \"5 килограммов\"\n",
    "        elif re.match(r\"\\d+(\\.\\d+)?\\s+\", token):\n",
    "            num_match = re.match(r\"\\d+(\\.\\d+)?\", token)\n",
    "            if num_match:\n",
    "                num_end = s + len(num_match.group())\n",
    "                annotations.append((s, num_end, \"B-VOLUME\"))\n",
    "                unit_text = token[num_end - s :].strip()\n",
    "                unit_start = text.find(unit_text, num_end, e)\n",
    "                if unit_start != -1:\n",
    "                    annotations.extend(annotate_multitoken(text, (unit_start, unit_start + len(unit_text)), \"VOLUME\"))\n",
    "\n",
    "        else:  # fallback\n",
    "            annotations.append((s, e, \"B-VOLUME\"))\n",
    "\n",
    "    return annotations"
   ]
  },
  {
   "cell_type": "code",
   "execution_count": 30,
   "id": "fdad92b2",
   "metadata": {},
   "outputs": [],
   "source": [
    "def annotate(text, use_volume=False):\n",
    "    annotations = []\n",
    "\n",
    "    # TYPE\n",
    "    for w in words:\n",
    "        pos = text.find(w)\n",
    "        if pos != -1:\n",
    "            annotations.extend(annotate_multitoken(text, (pos, pos + len(w)), \"TYPE\"))\n",
    "\n",
    "    # BRAND\n",
    "    for b in brands:\n",
    "        pos = text.find(b)\n",
    "        if pos != -1:\n",
    "            annotations.extend(annotate_multitoken(text, (pos, pos + len(b)), \"BRAND\"))\n",
    "\n",
    "    # PERCENT или VOLUME\n",
    "    if use_volume:\n",
    "        annotations.extend(annotate_volume(text))\n",
    "    else:\n",
    "        annotations.extend(annotate_percent(text))\n",
    "\n",
    "    return sorted(annotations, key=lambda x: x[0])"
   ]
  },
  {
   "cell_type": "code",
   "execution_count": 31,
   "id": "0ab57c07",
   "metadata": {},
   "outputs": [
    {
     "name": "stdout",
     "output_type": "stream",
     "text": [
      "✅ Данные с PERCENT и VOLUME сохранены в train_new_percent.csv\n"
     ]
    }
   ],
   "source": [
    "# генерация\n",
    "with open(outfile, \"w\", newline=\"\", encoding=\"utf-8\") as f:\n",
    "    writer = csv.writer(f, delimiter=\";\")\n",
    "    writer.writerow([\"sample\", \"annotation\"])\n",
    "\n",
    "    for _ in range(3):\n",
    "        for w in words:\n",
    "            for p in percents:\n",
    "                if random.random() < 0.5:\n",
    "                    b = random.choice(brands)\n",
    "                    text = f\"{w} {b} {p}\"\n",
    "                else:\n",
    "                    text = f\"{p} {w}\"\n",
    "                ann = annotate(text, use_volume=False)\n",
    "                writer.writerow([text, str(ann)])\n",
    "\n",
    "            for v in volumes:\n",
    "                if random.random() < 0.5:\n",
    "                    b = random.choice(brands)\n",
    "                    text = f\"{w} {b} {v}\"\n",
    "                else:\n",
    "                    text = f\"{v} {w}\"\n",
    "                ann = annotate(text, use_volume=True)\n",
    "                writer.writerow([text, str(ann)])\n",
    "\n",
    "print(f\"✅ Данные с PERCENT и VOLUME сохранены в {outfile}\")"
   ]
  },
  {
   "cell_type": "code",
   "execution_count": null,
   "id": "fa0b8f90",
   "metadata": {},
   "outputs": [],
   "source": []
  }
 ],
 "metadata": {
  "kernelspec": {
   "display_name": "Python 3 (ipykernel)",
   "language": "python",
   "name": "python3"
  },
  "language_info": {
   "codemirror_mode": {
    "name": "ipython",
    "version": 3
   },
   "file_extension": ".py",
   "mimetype": "text/x-python",
   "name": "python",
   "nbconvert_exporter": "python",
   "pygments_lexer": "ipython3",
   "version": "3.10.12"
  }
 },
 "nbformat": 4,
 "nbformat_minor": 5
}
