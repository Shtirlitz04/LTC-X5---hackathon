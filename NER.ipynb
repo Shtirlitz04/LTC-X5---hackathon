{
 "cells": [
  {
   "cell_type": "code",
   "execution_count": 25,
   "id": "dc611cbd",
   "metadata": {},
   "outputs": [],
   "source": [
    "import ast\n",
    "import pandas as pd\n",
    "import transformers\n",
    "from datasets import Dataset, DatasetDict\n",
    "from transformers import AutoTokenizer, AutoModelForTokenClassification, DataCollatorForTokenClassification\n",
    "from transformers import TrainingArguments, Trainer\n",
    "from transformers import RobertaTokenizerFast\n",
    "import evaluate\n",
    "import torch\n",
    "from statistics import mean\n",
    "from pprint import pprint\n",
    "import time"
   ]
  },
  {
   "cell_type": "code",
   "execution_count": 26,
   "id": "dfca6cf1",
   "metadata": {},
   "outputs": [],
   "source": [
    "# === 1. Читаем Excel ===\n",
    "df = pd.read_csv(\"train.csv\", sep=';')\n",
    "df_t = pd.read_csv(\"submission.csv\", sep=';')\n",
    "\n",
    "# Список меток\n",
    "labels = ['O', 'B-BRAND', 'I-BRAND', 'B-TYPE', 'I-TYPE',\n",
    "          'B-PERCENT', 'I-PERCENT', 'B-VOLUME', 'I-VOLUME']\n",
    "label2id = {l: i for i, l in enumerate(labels)}\n",
    "id2label = {i: l for i, l in enumerate(labels)}"
   ]
  },
  {
   "cell_type": "code",
   "execution_count": 27,
   "id": "c07a7a5b",
   "metadata": {},
   "outputs": [],
   "source": [
    "# === 2. Преобразуем данные в токен+метки ===\n",
    "data = []\n",
    "for _, row in df.iterrows():\n",
    "    text = row[0]\n",
    "    spans = ast.literal_eval(row[1])  # список [(start, end, label), ...]\n",
    "\n",
    "    char_labels = [\"O\"] * len(text)\n",
    "    for start, end, tag in spans:\n",
    "        end = min(end, len(text))  # не выходим за границу\n",
    "        for i in range(start, end):\n",
    "            char_labels[i] = tag\n",
    "\n",
    "\n",
    "    tokens = text.split()\n",
    "    token_labels = []\n",
    "    offset = 0\n",
    "    for token in tokens:\n",
    "        token_len = len(token)\n",
    "        token_span_labels = char_labels[offset:offset + token_len]\n",
    "        tag = \"O\"\n",
    "        for l in token_span_labels:\n",
    "            if l != \"O\":\n",
    "                tag = l\n",
    "                break\n",
    "        token_labels.append(tag)\n",
    "        offset += token_len + 1\n",
    "\n",
    "    token_labels = [l if l != \"0\" else \"O\" for l in token_labels]\n",
    "    data.append({\"tokens\": tokens, \"labels\": [label2id[l] for l in token_labels]})\n",
    "\n",
    "dataset = Dataset.from_list(data)"
   ]
  },
  {
   "cell_type": "code",
   "execution_count": 28,
   "id": "b73d305d",
   "metadata": {},
   "outputs": [],
   "source": [
    "data_t = []\n",
    "for _, row in df_t.iterrows():\n",
    "    text = row[0]\n",
    "    spans = ast.literal_eval(row[1])  # список [(start, end, label), ...]\n",
    "\n",
    "    char_labels = [\"O\"] * len(text)\n",
    "    for start, end, tag in spans:\n",
    "        end = min(end, len(text))  # не выходим за границу\n",
    "        for i in range(start, end):\n",
    "            char_labels[i] = tag\n",
    "\n",
    "\n",
    "    tokens = text.split()\n",
    "    token_labels = []\n",
    "    offset = 0\n",
    "    for token in tokens:\n",
    "        token_len = len(token)\n",
    "        token_span_labels = char_labels[offset:offset + token_len]\n",
    "        tag = \"O\"\n",
    "        for l in token_span_labels:\n",
    "            if l != \"O\":\n",
    "                tag = l\n",
    "                break\n",
    "        token_labels.append(tag)\n",
    "        offset += token_len + 1\n",
    "\n",
    "    #token_labels = [l if l != \"0\" else \"O\" for l in token_labels]\n",
    "    data_t.append({\"tokens\": tokens, \"labels\": [label2id[l] for l in token_labels]})\n",
    "\n",
    "dataset_t = Dataset.from_list(data_t)"
   ]
  },
  {
   "cell_type": "code",
   "execution_count": 29,
   "id": "4cf784bb",
   "metadata": {},
   "outputs": [],
   "source": [
    "# === 3. Загружаем токенайзер и модель ===\n",
    "model_name = \"DeepPavlov/rubert-base-cased\"\n",
    "#model_name = \"FacebookAI/roberta-base\"\n",
    "#tokenizer = RobertaTokenizerFast.from_pretrained(\n",
    "#    \"roberta-base\",\n",
    "#    add_prefix_space=True  # ← ключевой параметр\n",
    "#)\n",
    "tokenizer = AutoTokenizer.from_pretrained(model_name)"
   ]
  },
  {
   "cell_type": "code",
   "execution_count": 30,
   "id": "eb00d8a5",
   "metadata": {},
   "outputs": [],
   "source": [
    "def tokenize_and_align_labels(example):\n",
    "    tokenized = tokenizer(example[\"tokens\"],\n",
    "                          is_split_into_words=True,\n",
    "                          truncation=True,\n",
    "                          padding=\"max_length\",\n",
    "                          max_length=128)\n",
    "\n",
    "    word_ids = tokenized.word_ids(batch_index=0)  # соответствие токен -> слово\n",
    "    label_ids = []\n",
    "    previous_word_idx = None\n",
    "    for word_idx in word_ids:\n",
    "        if word_idx is None:\n",
    "            label_ids.append(-100)  # игнорируем паддинг\n",
    "        elif word_idx != previous_word_idx:\n",
    "            label_ids.append(example[\"labels\"][word_idx])\n",
    "        else:\n",
    "            # Для сабтокенов ставим I-* если это не \"O\"\n",
    "            label_ids.append(\n",
    "                example[\"labels\"][word_idx]\n",
    "                if labels[example[\"labels\"][word_idx]] != \"O\"\n",
    "                else -100\n",
    "            )\n",
    "        previous_word_idx = word_idx\n",
    "\n",
    "    tokenized[\"labels\"] = label_ids\n",
    "    return tokenized"
   ]
  },
  {
   "cell_type": "code",
   "execution_count": 31,
   "id": "d4d682b0",
   "metadata": {},
   "outputs": [],
   "source": [
    "def tokenize_and_align_labels1(example, max_length=128):\n",
    "    # токенизация только по пробелам\n",
    "    tokens = example[\"tokens\"].split(\" \")  # <-- важное изменение\n",
    "    \n",
    "    # обрезаем/дополняем до max_length\n",
    "    tokens = tokens[:max_length]\n",
    "    labels = example[\"labels\"][:max_length]\n",
    "\n",
    "    # padding, если нужно\n",
    "    padding_length = max_length - len(tokens)\n",
    "    if padding_length > 0:\n",
    "        tokens += [\"[PAD]\"] * padding_length\n",
    "        labels += [-100] * padding_length  # игнорируем паддинг при обучении\n",
    "\n",
    "    return {\n",
    "        \"input_ids\": tokens,  # здесь уже не айдишки из словаря токенайзера, а сами токены\n",
    "        \"labels\": labels,\n",
    "    }\n"
   ]
  },
  {
   "cell_type": "code",
   "execution_count": 32,
   "id": "624f2fcf",
   "metadata": {},
   "outputs": [
    {
     "name": "stderr",
     "output_type": "stream",
     "text": [
      "Map: 100%|███████████████████████████████████████████████████████████████| 27256/27256 [00:06<00:00, 4186.45 examples/s]\n"
     ]
    }
   ],
   "source": [
    "#dataset = dataset.train_test_split(test_size=0.1, seed=42)\n",
    "\n",
    "encoded_dataset = dataset.map(tokenize_and_align_labels)\n",
    "#encoded_dataset_t = dataset_t.map(tokenize_and_align_labels)\n",
    "\n",
    "#combined_dataset = DatasetDict({\n",
    "#    \"train\": encoded_dataset,\n",
    "#    \"test\": encoded_dataset_t\n",
    "#})"
   ]
  },
  {
   "cell_type": "code",
   "execution_count": 33,
   "id": "f051f595",
   "metadata": {},
   "outputs": [
    {
     "name": "stderr",
     "output_type": "stream",
     "text": [
      "Some weights of BertForTokenClassification were not initialized from the model checkpoint at DeepPavlov/rubert-base-cased and are newly initialized: ['classifier.bias', 'classifier.weight']\n",
      "You should probably TRAIN this model on a down-stream task to be able to use it for predictions and inference.\n"
     ]
    }
   ],
   "source": [
    "# === 4. Готовим модель ===\n",
    "model = AutoModelForTokenClassification.from_pretrained(\n",
    "    model_name,\n",
    "    num_labels=len(labels),\n",
    "    id2label=id2label,\n",
    "    label2id=label2id,\n",
    ")"
   ]
  },
  {
   "cell_type": "code",
   "execution_count": 34,
   "id": "74ee86a7",
   "metadata": {},
   "outputs": [],
   "source": [
    "# === 5. Тренировка ===\n",
    "training_args = TrainingArguments(\n",
    "    output_dir=\"./ner_rubert\",\n",
    "    #evaluation_strategy=\"no\",\n",
    "    save_strategy=\"epoch\",\n",
    "    learning_rate=2e-5,\n",
    "    per_device_train_batch_size=64,\n",
    "    per_device_eval_batch_size=64,\n",
    "    num_train_epochs=10,\n",
    "    weight_decay=0.01,\n",
    "    logging_dir=\"./logs\",\n",
    ")"
   ]
  },
  {
   "cell_type": "code",
   "execution_count": 35,
   "id": "9ad9dac7",
   "metadata": {},
   "outputs": [],
   "source": [
    "data_collator = DataCollatorForTokenClassification(tokenizer)"
   ]
  },
  {
   "cell_type": "code",
   "execution_count": 36,
   "id": "c8e83358",
   "metadata": {},
   "outputs": [
    {
     "name": "stderr",
     "output_type": "stream",
     "text": [
      "/tmp/ipykernel_2723793/1048177495.py:2: FutureWarning: `tokenizer` is deprecated and will be removed in version 5.0.0 for `Trainer.__init__`. Use `processing_class` instead.\n",
      "  trainer = Trainer(\n"
     ]
    }
   ],
   "source": [
    "# === 6. Trainer ===\n",
    "trainer = Trainer(\n",
    "    model=model,\n",
    "    args=training_args,\n",
    "    train_dataset=encoded_dataset,\n",
    "    #eval_dataset=encoded_dataset[\"test\"],\n",
    "    tokenizer=tokenizer,\n",
    "    data_collator=data_collator\n",
    ")"
   ]
  },
  {
   "cell_type": "code",
   "execution_count": 37,
   "id": "b905ff59",
   "metadata": {
    "scrolled": false
   },
   "outputs": [
    {
     "data": {
      "text/html": [
       "\n",
       "    <div>\n",
       "      \n",
       "      <progress value='2557' max='4260' style='width:300px; height:20px; vertical-align: middle;'></progress>\n",
       "      [2557/4260 04:02 < 02:41, 10.54 it/s, Epoch 6/10]\n",
       "    </div>\n",
       "    <table border=\"1\" class=\"dataframe\">\n",
       "  <thead>\n",
       " <tr style=\"text-align: left;\">\n",
       "      <th>Step</th>\n",
       "      <th>Training Loss</th>\n",
       "    </tr>\n",
       "  </thead>\n",
       "  <tbody>\n",
       "    <tr>\n",
       "      <td>500</td>\n",
       "      <td>0.296700</td>\n",
       "    </tr>\n",
       "    <tr>\n",
       "      <td>1000</td>\n",
       "      <td>0.124700</td>\n",
       "    </tr>\n",
       "    <tr>\n",
       "      <td>1500</td>\n",
       "      <td>0.084400</td>\n",
       "    </tr>\n",
       "    <tr>\n",
       "      <td>2000</td>\n",
       "      <td>0.056000</td>\n",
       "    </tr>\n",
       "    <tr>\n",
       "      <td>2500</td>\n",
       "      <td>0.040400</td>\n",
       "    </tr>\n",
       "  </tbody>\n",
       "</table><p>"
      ],
      "text/plain": [
       "<IPython.core.display.HTML object>"
      ]
     },
     "metadata": {},
     "output_type": "display_data"
    },
    {
     "ename": "Exception",
     "evalue": "Input/output error (os error 5)",
     "output_type": "error",
     "traceback": [
      "\u001b[0;31m---------------------------------------------------------------------------\u001b[0m",
      "\u001b[0;31mException\u001b[0m                                 Traceback (most recent call last)",
      "Cell \u001b[0;32mIn[37], line 1\u001b[0m\n\u001b[0;32m----> 1\u001b[0m \u001b[43mtrainer\u001b[49m\u001b[38;5;241;43m.\u001b[39;49m\u001b[43mtrain\u001b[49m\u001b[43m(\u001b[49m\u001b[43m)\u001b[49m\n",
      "File \u001b[0;32m/usr/local/lib/python3.10/dist-packages/transformers/trainer.py:2328\u001b[0m, in \u001b[0;36mTrainer.train\u001b[0;34m(self, resume_from_checkpoint, trial, ignore_keys_for_eval, **kwargs)\u001b[0m\n\u001b[1;32m   2326\u001b[0m         hf_hub_utils\u001b[38;5;241m.\u001b[39menable_progress_bars()\n\u001b[1;32m   2327\u001b[0m \u001b[38;5;28;01melse\u001b[39;00m:\n\u001b[0;32m-> 2328\u001b[0m     \u001b[38;5;28;01mreturn\u001b[39;00m \u001b[43minner_training_loop\u001b[49m\u001b[43m(\u001b[49m\n\u001b[1;32m   2329\u001b[0m \u001b[43m        \u001b[49m\u001b[43margs\u001b[49m\u001b[38;5;241;43m=\u001b[39;49m\u001b[43margs\u001b[49m\u001b[43m,\u001b[49m\n\u001b[1;32m   2330\u001b[0m \u001b[43m        \u001b[49m\u001b[43mresume_from_checkpoint\u001b[49m\u001b[38;5;241;43m=\u001b[39;49m\u001b[43mresume_from_checkpoint\u001b[49m\u001b[43m,\u001b[49m\n\u001b[1;32m   2331\u001b[0m \u001b[43m        \u001b[49m\u001b[43mtrial\u001b[49m\u001b[38;5;241;43m=\u001b[39;49m\u001b[43mtrial\u001b[49m\u001b[43m,\u001b[49m\n\u001b[1;32m   2332\u001b[0m \u001b[43m        \u001b[49m\u001b[43mignore_keys_for_eval\u001b[49m\u001b[38;5;241;43m=\u001b[39;49m\u001b[43mignore_keys_for_eval\u001b[49m\u001b[43m,\u001b[49m\n\u001b[1;32m   2333\u001b[0m \u001b[43m    \u001b[49m\u001b[43m)\u001b[49m\n",
      "File \u001b[0;32m/usr/local/lib/python3.10/dist-packages/transformers/trainer.py:2788\u001b[0m, in \u001b[0;36mTrainer._inner_training_loop\u001b[0;34m(self, batch_size, args, resume_from_checkpoint, trial, ignore_keys_for_eval)\u001b[0m\n\u001b[1;32m   2785\u001b[0m     \u001b[38;5;28mself\u001b[39m\u001b[38;5;241m.\u001b[39mcontrol\u001b[38;5;241m.\u001b[39mshould_training_stop \u001b[38;5;241m=\u001b[39m \u001b[38;5;28;01mTrue\u001b[39;00m\n\u001b[1;32m   2787\u001b[0m \u001b[38;5;28mself\u001b[39m\u001b[38;5;241m.\u001b[39mcontrol \u001b[38;5;241m=\u001b[39m \u001b[38;5;28mself\u001b[39m\u001b[38;5;241m.\u001b[39mcallback_handler\u001b[38;5;241m.\u001b[39mon_epoch_end(args, \u001b[38;5;28mself\u001b[39m\u001b[38;5;241m.\u001b[39mstate, \u001b[38;5;28mself\u001b[39m\u001b[38;5;241m.\u001b[39mcontrol)\n\u001b[0;32m-> 2788\u001b[0m \u001b[38;5;28;43mself\u001b[39;49m\u001b[38;5;241;43m.\u001b[39;49m\u001b[43m_maybe_log_save_evaluate\u001b[49m\u001b[43m(\u001b[49m\n\u001b[1;32m   2789\u001b[0m \u001b[43m    \u001b[49m\u001b[43mtr_loss\u001b[49m\u001b[43m,\u001b[49m\u001b[43m \u001b[49m\u001b[43mgrad_norm\u001b[49m\u001b[43m,\u001b[49m\u001b[43m \u001b[49m\u001b[43mmodel\u001b[49m\u001b[43m,\u001b[49m\u001b[43m \u001b[49m\u001b[43mtrial\u001b[49m\u001b[43m,\u001b[49m\u001b[43m \u001b[49m\u001b[43mepoch\u001b[49m\u001b[43m,\u001b[49m\u001b[43m \u001b[49m\u001b[43mignore_keys_for_eval\u001b[49m\u001b[43m,\u001b[49m\u001b[43m \u001b[49m\u001b[43mstart_time\u001b[49m\u001b[43m,\u001b[49m\u001b[43m \u001b[49m\u001b[43mlearning_rate\u001b[49m\u001b[38;5;241;43m=\u001b[39;49m\u001b[43mlearning_rate\u001b[49m\n\u001b[1;32m   2790\u001b[0m \u001b[43m\u001b[49m\u001b[43m)\u001b[49m\n\u001b[1;32m   2792\u001b[0m \u001b[38;5;28;01mif\u001b[39;00m DebugOption\u001b[38;5;241m.\u001b[39mTPU_METRICS_DEBUG \u001b[38;5;129;01min\u001b[39;00m \u001b[38;5;28mself\u001b[39m\u001b[38;5;241m.\u001b[39margs\u001b[38;5;241m.\u001b[39mdebug:\n\u001b[1;32m   2793\u001b[0m     \u001b[38;5;28;01mif\u001b[39;00m is_torch_xla_available():\n\u001b[1;32m   2794\u001b[0m         \u001b[38;5;66;03m# tpu-comment: Logging debug metrics for PyTorch/XLA (compile, execute times, ops, etc.)\u001b[39;00m\n",
      "File \u001b[0;32m/usr/local/lib/python3.10/dist-packages/transformers/trainer.py:3234\u001b[0m, in \u001b[0;36mTrainer._maybe_log_save_evaluate\u001b[0;34m(self, tr_loss, grad_norm, model, trial, epoch, ignore_keys_for_eval, start_time, learning_rate)\u001b[0m\n\u001b[1;32m   3231\u001b[0m         \u001b[38;5;28mself\u001b[39m\u001b[38;5;241m.\u001b[39mcontrol\u001b[38;5;241m.\u001b[39mshould_save \u001b[38;5;241m=\u001b[39m is_new_best_metric\n\u001b[1;32m   3233\u001b[0m \u001b[38;5;28;01mif\u001b[39;00m \u001b[38;5;28mself\u001b[39m\u001b[38;5;241m.\u001b[39mcontrol\u001b[38;5;241m.\u001b[39mshould_save:\n\u001b[0;32m-> 3234\u001b[0m     \u001b[38;5;28;43mself\u001b[39;49m\u001b[38;5;241;43m.\u001b[39;49m\u001b[43m_save_checkpoint\u001b[49m\u001b[43m(\u001b[49m\u001b[43mmodel\u001b[49m\u001b[43m,\u001b[49m\u001b[43m \u001b[49m\u001b[43mtrial\u001b[49m\u001b[43m)\u001b[49m\n\u001b[1;32m   3235\u001b[0m     \u001b[38;5;28mself\u001b[39m\u001b[38;5;241m.\u001b[39mcontrol \u001b[38;5;241m=\u001b[39m \u001b[38;5;28mself\u001b[39m\u001b[38;5;241m.\u001b[39mcallback_handler\u001b[38;5;241m.\u001b[39mon_save(\u001b[38;5;28mself\u001b[39m\u001b[38;5;241m.\u001b[39margs, \u001b[38;5;28mself\u001b[39m\u001b[38;5;241m.\u001b[39mstate, \u001b[38;5;28mself\u001b[39m\u001b[38;5;241m.\u001b[39mcontrol)\n",
      "File \u001b[0;32m/usr/local/lib/python3.10/dist-packages/transformers/trainer.py:3331\u001b[0m, in \u001b[0;36mTrainer._save_checkpoint\u001b[0;34m(self, model, trial)\u001b[0m\n\u001b[1;32m   3329\u001b[0m run_dir \u001b[38;5;241m=\u001b[39m \u001b[38;5;28mself\u001b[39m\u001b[38;5;241m.\u001b[39m_get_output_dir(trial\u001b[38;5;241m=\u001b[39mtrial)\n\u001b[1;32m   3330\u001b[0m output_dir \u001b[38;5;241m=\u001b[39m os\u001b[38;5;241m.\u001b[39mpath\u001b[38;5;241m.\u001b[39mjoin(run_dir, checkpoint_folder)\n\u001b[0;32m-> 3331\u001b[0m \u001b[38;5;28;43mself\u001b[39;49m\u001b[38;5;241;43m.\u001b[39;49m\u001b[43msave_model\u001b[49m\u001b[43m(\u001b[49m\u001b[43moutput_dir\u001b[49m\u001b[43m,\u001b[49m\u001b[43m \u001b[49m\u001b[43m_internal_call\u001b[49m\u001b[38;5;241;43m=\u001b[39;49m\u001b[38;5;28;43;01mTrue\u001b[39;49;00m\u001b[43m)\u001b[49m\n\u001b[1;32m   3333\u001b[0m \u001b[38;5;28;01mif\u001b[39;00m \u001b[38;5;28mself\u001b[39m\u001b[38;5;241m.\u001b[39margs\u001b[38;5;241m.\u001b[39msave_strategy \u001b[38;5;129;01min\u001b[39;00m [SaveStrategy\u001b[38;5;241m.\u001b[39mSTEPS, SaveStrategy\u001b[38;5;241m.\u001b[39mEPOCH] \u001b[38;5;129;01mand\u001b[39;00m \u001b[38;5;28mself\u001b[39m\u001b[38;5;241m.\u001b[39mstate\u001b[38;5;241m.\u001b[39mbest_global_step:\n\u001b[1;32m   3334\u001b[0m     best_checkpoint_folder \u001b[38;5;241m=\u001b[39m \u001b[38;5;124mf\u001b[39m\u001b[38;5;124m\"\u001b[39m\u001b[38;5;132;01m{\u001b[39;00mPREFIX_CHECKPOINT_DIR\u001b[38;5;132;01m}\u001b[39;00m\u001b[38;5;124m-\u001b[39m\u001b[38;5;132;01m{\u001b[39;00m\u001b[38;5;28mself\u001b[39m\u001b[38;5;241m.\u001b[39mstate\u001b[38;5;241m.\u001b[39mbest_global_step\u001b[38;5;132;01m}\u001b[39;00m\u001b[38;5;124m\"\u001b[39m\n",
      "File \u001b[0;32m/usr/local/lib/python3.10/dist-packages/transformers/trainer.py:4207\u001b[0m, in \u001b[0;36mTrainer.save_model\u001b[0;34m(self, output_dir, _internal_call)\u001b[0m\n\u001b[1;32m   4204\u001b[0m         \u001b[38;5;28mself\u001b[39m\u001b[38;5;241m.\u001b[39mmodel_wrapped\u001b[38;5;241m.\u001b[39msave_checkpoint(output_dir)\n\u001b[1;32m   4206\u001b[0m \u001b[38;5;28;01melif\u001b[39;00m \u001b[38;5;28mself\u001b[39m\u001b[38;5;241m.\u001b[39margs\u001b[38;5;241m.\u001b[39mshould_save:\n\u001b[0;32m-> 4207\u001b[0m     \u001b[38;5;28;43mself\u001b[39;49m\u001b[38;5;241;43m.\u001b[39;49m\u001b[43m_save\u001b[49m\u001b[43m(\u001b[49m\u001b[43moutput_dir\u001b[49m\u001b[43m)\u001b[49m\n\u001b[1;32m   4209\u001b[0m \u001b[38;5;66;03m# Push to the Hub when `save_model` is called by the user.\u001b[39;00m\n\u001b[1;32m   4210\u001b[0m \u001b[38;5;28;01mif\u001b[39;00m \u001b[38;5;28mself\u001b[39m\u001b[38;5;241m.\u001b[39margs\u001b[38;5;241m.\u001b[39mpush_to_hub \u001b[38;5;129;01mand\u001b[39;00m \u001b[38;5;129;01mnot\u001b[39;00m _internal_call:\n",
      "File \u001b[0;32m/usr/local/lib/python3.10/dist-packages/transformers/trainer.py:4316\u001b[0m, in \u001b[0;36mTrainer._save\u001b[0;34m(self, output_dir, state_dict)\u001b[0m\n\u001b[1;32m   4311\u001b[0m     \u001b[38;5;28mself\u001b[39m\u001b[38;5;241m.\u001b[39mmodel\u001b[38;5;241m.\u001b[39msave_pretrained(\n\u001b[1;32m   4312\u001b[0m         output_dir, state_dict\u001b[38;5;241m=\u001b[39mstate_dict, safe_serialization\u001b[38;5;241m=\u001b[39m\u001b[38;5;28mself\u001b[39m\u001b[38;5;241m.\u001b[39margs\u001b[38;5;241m.\u001b[39msave_safetensors\n\u001b[1;32m   4313\u001b[0m     )\n\u001b[1;32m   4315\u001b[0m \u001b[38;5;28;01mif\u001b[39;00m \u001b[38;5;28mself\u001b[39m\u001b[38;5;241m.\u001b[39mprocessing_class \u001b[38;5;129;01mis\u001b[39;00m \u001b[38;5;129;01mnot\u001b[39;00m \u001b[38;5;28;01mNone\u001b[39;00m:\n\u001b[0;32m-> 4316\u001b[0m     \u001b[38;5;28;43mself\u001b[39;49m\u001b[38;5;241;43m.\u001b[39;49m\u001b[43mprocessing_class\u001b[49m\u001b[38;5;241;43m.\u001b[39;49m\u001b[43msave_pretrained\u001b[49m\u001b[43m(\u001b[49m\u001b[43moutput_dir\u001b[49m\u001b[43m)\u001b[49m\n\u001b[1;32m   4317\u001b[0m \u001b[38;5;28;01melif\u001b[39;00m (\n\u001b[1;32m   4318\u001b[0m     \u001b[38;5;28mself\u001b[39m\u001b[38;5;241m.\u001b[39mdata_collator \u001b[38;5;129;01mis\u001b[39;00m \u001b[38;5;129;01mnot\u001b[39;00m \u001b[38;5;28;01mNone\u001b[39;00m\n\u001b[1;32m   4319\u001b[0m     \u001b[38;5;129;01mand\u001b[39;00m \u001b[38;5;28mhasattr\u001b[39m(\u001b[38;5;28mself\u001b[39m\u001b[38;5;241m.\u001b[39mdata_collator, \u001b[38;5;124m\"\u001b[39m\u001b[38;5;124mtokenizer\u001b[39m\u001b[38;5;124m\"\u001b[39m)\n\u001b[1;32m   4320\u001b[0m     \u001b[38;5;129;01mand\u001b[39;00m \u001b[38;5;28mself\u001b[39m\u001b[38;5;241m.\u001b[39mdata_collator\u001b[38;5;241m.\u001b[39mtokenizer \u001b[38;5;129;01mis\u001b[39;00m \u001b[38;5;129;01mnot\u001b[39;00m \u001b[38;5;28;01mNone\u001b[39;00m\n\u001b[1;32m   4321\u001b[0m ):\n\u001b[1;32m   4322\u001b[0m     logger\u001b[38;5;241m.\u001b[39minfo(\u001b[38;5;124m\"\u001b[39m\u001b[38;5;124mSaving Trainer.data_collator.tokenizer by default as Trainer.processing_class is `None`\u001b[39m\u001b[38;5;124m\"\u001b[39m)\n",
      "File \u001b[0;32m/usr/local/lib/python3.10/dist-packages/transformers/tokenization_utils_base.py:2576\u001b[0m, in \u001b[0;36mPreTrainedTokenizerBase.save_pretrained\u001b[0;34m(self, save_directory, legacy_format, filename_prefix, push_to_hub, **kwargs)\u001b[0m\n\u001b[1;32m   2572\u001b[0m logger\u001b[38;5;241m.\u001b[39minfo(\u001b[38;5;124mf\u001b[39m\u001b[38;5;124m\"\u001b[39m\u001b[38;5;124mSpecial tokens file saved in \u001b[39m\u001b[38;5;132;01m{\u001b[39;00mspecial_tokens_map_file\u001b[38;5;132;01m}\u001b[39;00m\u001b[38;5;124m\"\u001b[39m)\n\u001b[1;32m   2574\u001b[0m file_names \u001b[38;5;241m=\u001b[39m (tokenizer_config_file, special_tokens_map_file, \u001b[38;5;241m*\u001b[39msaved_raw_chat_template_files)\n\u001b[0;32m-> 2576\u001b[0m save_files \u001b[38;5;241m=\u001b[39m \u001b[38;5;28;43mself\u001b[39;49m\u001b[38;5;241;43m.\u001b[39;49m\u001b[43m_save_pretrained\u001b[49m\u001b[43m(\u001b[49m\n\u001b[1;32m   2577\u001b[0m \u001b[43m    \u001b[49m\u001b[43msave_directory\u001b[49m\u001b[38;5;241;43m=\u001b[39;49m\u001b[43msave_directory\u001b[49m\u001b[43m,\u001b[49m\n\u001b[1;32m   2578\u001b[0m \u001b[43m    \u001b[49m\u001b[43mfile_names\u001b[49m\u001b[38;5;241;43m=\u001b[39;49m\u001b[43mfile_names\u001b[49m\u001b[43m,\u001b[49m\n\u001b[1;32m   2579\u001b[0m \u001b[43m    \u001b[49m\u001b[43mlegacy_format\u001b[49m\u001b[38;5;241;43m=\u001b[39;49m\u001b[43mlegacy_format\u001b[49m\u001b[43m,\u001b[49m\n\u001b[1;32m   2580\u001b[0m \u001b[43m    \u001b[49m\u001b[43mfilename_prefix\u001b[49m\u001b[38;5;241;43m=\u001b[39;49m\u001b[43mfilename_prefix\u001b[49m\u001b[43m,\u001b[49m\n\u001b[1;32m   2581\u001b[0m \u001b[43m\u001b[49m\u001b[43m)\u001b[49m\n\u001b[1;32m   2583\u001b[0m \u001b[38;5;28;01mif\u001b[39;00m push_to_hub:\n\u001b[1;32m   2584\u001b[0m     \u001b[38;5;28mself\u001b[39m\u001b[38;5;241m.\u001b[39m_upload_modified_files(\n\u001b[1;32m   2585\u001b[0m         save_directory,\n\u001b[1;32m   2586\u001b[0m         repo_id,\n\u001b[0;32m   (...)\u001b[0m\n\u001b[1;32m   2589\u001b[0m         token\u001b[38;5;241m=\u001b[39mkwargs\u001b[38;5;241m.\u001b[39mget(\u001b[38;5;124m\"\u001b[39m\u001b[38;5;124mtoken\u001b[39m\u001b[38;5;124m\"\u001b[39m),\n\u001b[1;32m   2590\u001b[0m     )\n",
      "File \u001b[0;32m/usr/local/lib/python3.10/dist-packages/transformers/tokenization_utils_fast.py:739\u001b[0m, in \u001b[0;36mPreTrainedTokenizerFast._save_pretrained\u001b[0;34m(self, save_directory, file_names, legacy_format, filename_prefix)\u001b[0m\n\u001b[1;32m    735\u001b[0m \u001b[38;5;28;01mif\u001b[39;00m save_fast:\n\u001b[1;32m    736\u001b[0m     tokenizer_file \u001b[38;5;241m=\u001b[39m os\u001b[38;5;241m.\u001b[39mpath\u001b[38;5;241m.\u001b[39mjoin(\n\u001b[1;32m    737\u001b[0m         save_directory, (filename_prefix \u001b[38;5;241m+\u001b[39m \u001b[38;5;124m\"\u001b[39m\u001b[38;5;124m-\u001b[39m\u001b[38;5;124m\"\u001b[39m \u001b[38;5;28;01mif\u001b[39;00m filename_prefix \u001b[38;5;28;01melse\u001b[39;00m \u001b[38;5;124m\"\u001b[39m\u001b[38;5;124m\"\u001b[39m) \u001b[38;5;241m+\u001b[39m TOKENIZER_FILE\n\u001b[1;32m    738\u001b[0m     )\n\u001b[0;32m--> 739\u001b[0m     \u001b[38;5;28;43mself\u001b[39;49m\u001b[38;5;241;43m.\u001b[39;49m\u001b[43mbackend_tokenizer\u001b[49m\u001b[38;5;241;43m.\u001b[39;49m\u001b[43msave\u001b[49m\u001b[43m(\u001b[49m\u001b[43mtokenizer_file\u001b[49m\u001b[43m)\u001b[49m\n\u001b[1;32m    740\u001b[0m     file_names \u001b[38;5;241m=\u001b[39m file_names \u001b[38;5;241m+\u001b[39m (tokenizer_file,)\n\u001b[1;32m    742\u001b[0m \u001b[38;5;28;01mreturn\u001b[39;00m file_names\n",
      "\u001b[0;31mException\u001b[0m: Input/output error (os error 5)"
     ]
    }
   ],
   "source": [
    "trainer.train()"
   ]
  },
  {
   "cell_type": "code",
   "execution_count": 33,
   "id": "efbd2fb7",
   "metadata": {},
   "outputs": [
    {
     "data": {
      "text/plain": [
       "('./saved_model_6/tokenizer_config.json',\n",
       " './saved_model_6/special_tokens_map.json',\n",
       " './saved_model_6/vocab.txt',\n",
       " './saved_model_6/added_tokens.json',\n",
       " './saved_model_6/tokenizer.json')"
      ]
     },
     "execution_count": 33,
     "metadata": {},
     "output_type": "execute_result"
    }
   ],
   "source": [
    "# Не забываем увеличивать каждый раз номер, чтобы сохранить все вариации\n",
    "model.save_pretrained(\"./saved_model_purge\")\n",
    "tokenizer.save_pretrained(\"./saved_model_purge\")"
   ]
  },
  {
   "cell_type": "code",
   "execution_count": 71,
   "id": "f19986d7",
   "metadata": {},
   "outputs": [
    {
     "name": "stdout",
     "output_type": "stream",
     "text": [
      "\n"
     ]
    }
   ],
   "source": [
    "model_path = \"./saved_model_3\"  # путь к сохранённой модели\n",
    "\n",
    "tokenizer1 = AutoTokenizer.from_pretrained(model_path)\n",
    "model1 = AutoModelForTokenClassification.from_pretrained(model_path)\n",
    "\n",
    "device = torch.device(\"cuda\" if torch.cuda.is_available() else \"cpu\")\n",
    "model1.to(device)\n",
    "model1.eval()  # переводим в режим инференса\n",
    "print()"
   ]
  },
  {
   "cell_type": "code",
   "execution_count": 35,
   "id": "414e055f",
   "metadata": {},
   "outputs": [],
   "source": [
    "def predict_ner(text, model, tokenizer):\n",
    "    # Токенизация\n",
    "    inputs = tokenizer(text, return_tensors=\"pt\")\n",
    "    #tokens = text.split(\" \")\n",
    "    #inputs = tokenizer(tokens, is_split_into_words=True, return_tensors=\"pt\")\n",
    "    inputs = {k: v.to(device) for k, v in inputs.items()}\n",
    "\n",
    "    # Предсказание\n",
    "    with torch.no_grad():\n",
    "        outputs = model(**inputs)\n",
    "    logits = outputs.logits\n",
    "    pred_ids = torch.argmax(logits, dim=-1).squeeze().tolist()\n",
    "\n",
    "    # Сопоставление токенов с метками\n",
    "    tokens = tokenizer.convert_ids_to_tokens(inputs[\"input_ids\"].squeeze())\n",
    "    labels = [model.config.id2label[i] for i in pred_ids]\n",
    "\n",
    "    # Игнорируем спец-токены [CLS] и [SEP]\n",
    "    tokens_labels = [(t, l) for t, l in zip(tokens, labels) if t not in (\"[CLS]\", \"[SEP]\")]\n",
    "\n",
    "    # Склеиваем подслова\n",
    "    merged_tokens, merged_labels = [], []\n",
    "    for t, l in tokens_labels:\n",
    "        if t.startswith(\"##\") or (merged_tokens and t in [\".\", \",\", \"!\", \"?\", \";\", \":\", \"-\", \"—\", \"–\", \"...\"]):\n",
    "            merged_tokens[-1] += t[2:]\n",
    "        else:\n",
    "            merged_tokens.append(t)\n",
    "            merged_labels.append(l)\n",
    "\n",
    "    return list(zip(merged_tokens, merged_labels))\n"
   ]
  },
  {
   "cell_type": "code",
   "execution_count": 36,
   "id": "a031313b",
   "metadata": {},
   "outputs": [
    {
     "name": "stdout",
     "output_type": "stream",
     "text": [
      "вино            -> B-TYPE\n",
      "3               -> B-BRAND\n"
     ]
    }
   ],
   "source": [
    "text1 = \"b-brand с клубникой\"\n",
    "text = \"вино 3\"\n",
    "result = predict_ner(text, model1, tokenizer1)\n",
    "\n",
    "for token, label in result:\n",
    "    print(f\"{token:15} -> {label}\")"
   ]
  },
  {
   "cell_type": "code",
   "execution_count": 24,
   "id": "0692dae0",
   "metadata": {},
   "outputs": [],
   "source": [
    "def compute_metrics(p):\n",
    "    predictions, labels = p\n",
    "    predictions = predictions.argmax(axis=-1)\n",
    "\n",
    "    true_labels = []\n",
    "    true_predictions = []\n",
    "\n",
    "    # Восстанавливаем word-level метки, игнорируя паддинги (-100)\n",
    "    for pred, lab in zip(predictions, labels):\n",
    "        cur_preds = []\n",
    "        cur_labels = []\n",
    "        for p_i, l_i in zip(pred, lab):\n",
    "            if l_i != -100:\n",
    "                cur_preds.append(id2label[p_i])\n",
    "                cur_labels.append(id2label[l_i])\n",
    "        true_predictions.append(cur_preds)\n",
    "        true_labels.append(cur_labels)\n",
    "\n",
    "    # Вычисляем метрики seqeval\n",
    "    results = metric.compute(predictions=true_predictions, references=true_labels)\n",
    "\n",
    "    # Собираем micro метрики (overall_*)\n",
    "    metrics = {\n",
    "        \"precision_micro\": results.get(\"overall_precision\", 0.0),\n",
    "        \"recall_micro\": results.get(\"overall_recall\", 0.0),\n",
    "        \"f1_micro\": results.get(\"overall_f1\", 0.0),\n",
    "        \"accuracy\": results.get(\"overall_accuracy\", 0.0),\n",
    "    }\n",
    "\n",
    "    # Macro-F1 = среднее F1 по всем существующим классам\n",
    "    f1_per_class = [\n",
    "        results[label].get(\"f1\", 0.0)   # <- используем ключ 'f1', не 'f1-score'\n",
    "        for label in results\n",
    "        if label not in [\"overall_precision\",\"overall_recall\",\"overall_f1\",\"overall_accuracy\"]\n",
    "    ]\n",
    "    metrics[\"f1_macro\"] = mean(f1_per_class) if f1_per_class else 0.0\n",
    "\n",
    "    # F1/precision/recall по каждому классу\n",
    "    for label in results:\n",
    "        if label not in [\"overall_precision\",\"overall_recall\",\"overall_f1\",\"overall_accuracy\"]:\n",
    "            metrics[f\"{label}_precision\"] = results[label].get(\"precision\", 0.0)\n",
    "            metrics[f\"{label}_recall\"] = results[label].get(\"recall\", 0.0)\n",
    "            metrics[f\"{label}_f1\"] = results[label].get(\"f1\", 0.0)\n",
    "\n",
    "    return metrics"
   ]
  },
  {
   "cell_type": "code",
   "execution_count": 25,
   "id": "96dfa7e4",
   "metadata": {},
   "outputs": [],
   "source": [
    "metric = evaluate.load(\"seqeval\")"
   ]
  },
  {
   "cell_type": "code",
   "execution_count": 26,
   "id": "03e93088",
   "metadata": {},
   "outputs": [
    {
     "name": "stderr",
     "output_type": "stream",
     "text": [
      "Map: 100%|█████████████████████████████████████████████████████████████████| 5000/5000 [00:01<00:00, 4135.24 examples/s]\n"
     ]
    }
   ],
   "source": [
    "encoded_dataset_t = dataset_t.map(tokenize_and_align_labels)"
   ]
  },
  {
   "cell_type": "code",
   "execution_count": 29,
   "id": "722f3a7c",
   "metadata": {},
   "outputs": [
    {
     "name": "stderr",
     "output_type": "stream",
     "text": [
      "/tmp/ipykernel_1425600/2974128623.py:1: FutureWarning: `tokenizer` is deprecated and will be removed in version 5.0.0 for `Trainer.__init__`. Use `processing_class` instead.\n",
      "  trainer_t = Trainer(\n"
     ]
    },
    {
     "data": {
      "text/html": [
       "\n",
       "    <div>\n",
       "      \n",
       "      <progress value='341' max='341' style='width:300px; height:20px; vertical-align: middle;'></progress>\n",
       "      [341/341 00:03]\n",
       "    </div>\n",
       "    "
      ],
      "text/plain": [
       "<IPython.core.display.HTML object>"
      ]
     },
     "metadata": {},
     "output_type": "display_data"
    },
    {
     "name": "stdout",
     "output_type": "stream",
     "text": [
      "{'eval_BRAND_f1': 0.9382334774552191,\n",
      " 'eval_BRAND_precision': 0.9376543209876543,\n",
      " 'eval_BRAND_recall': 0.9388133498145859,\n",
      " 'eval_PERCENT_f1': 1.0,\n",
      " 'eval_PERCENT_precision': 1.0,\n",
      " 'eval_PERCENT_recall': 1.0,\n",
      " 'eval_TYPE_f1': 0.9763793725207357,\n",
      " 'eval_TYPE_precision': 0.9732207045291158,\n",
      " 'eval_TYPE_recall': 0.9795586107091172,\n",
      " 'eval_VOLUME_f1': 0.9473684210526316,\n",
      " 'eval_VOLUME_precision': 0.9,\n",
      " 'eval_VOLUME_recall': 1.0,\n",
      " 'eval_accuracy': 0.9651982888195167,\n",
      " 'eval_f1_macro': 0.9654953177571466,\n",
      " 'eval_f1_micro': 0.9677509228947552,\n",
      " 'eval_loss': 0.27997273206710815,\n",
      " 'eval_model_preparation_time': 0.0027,\n",
      " 'eval_precision_micro': 0.9651292025562657,\n",
      " 'eval_recall_micro': 0.9703869255482609,\n",
      " 'eval_runtime': 3.5799,\n",
      " 'eval_samples_per_second': 761.481,\n",
      " 'eval_steps_per_second': 95.255}\n"
     ]
    }
   ],
   "source": [
    "trainer_t = Trainer(\n",
    "    model=model1,\n",
    "    tokenizer=tokenizer1,\n",
    "    compute_metrics=compute_metrics\n",
    ")\n",
    "\n",
    "# Прогоняем тестовый датасет\n",
    "results = trainer_t.evaluate(encoded_dataset[\"test\"])\n",
    "pprint(results)"
   ]
  },
  {
   "cell_type": "code",
   "execution_count": 27,
   "id": "9446545e",
   "metadata": {},
   "outputs": [],
   "source": [
    "def predict_ner_spans(text, model, tokenizer, device=\"cuda\"):\n",
    "    # Токенизация с оффсетами\n",
    "    inputs = tokenizer(text, return_tensors=\"pt\", return_offsets_mapping=True)\n",
    "    offset_mapping = inputs.pop(\"offset_mapping\")\n",
    "    inputs = {k: v.to(device) for k, v in inputs.items()}\n",
    "\n",
    "    # Предсказание\n",
    "    with torch.no_grad():\n",
    "        outputs = model(**inputs)\n",
    "    logits = outputs.logits\n",
    "    pred_ids = torch.argmax(logits, dim=-1).squeeze().tolist()\n",
    "\n",
    "    tokens = tokenizer.convert_ids_to_tokens(inputs[\"input_ids\"].squeeze())\n",
    "    labels = [model.config.id2label[i] for i in pred_ids]\n",
    "    offsets = offset_mapping.squeeze().tolist()\n",
    "\n",
    "    # Игнорируем спец-токены [CLS] и [SEP]\n",
    "    tokens_data = [\n",
    "        (tok, lab, (s, e))\n",
    "        for tok, lab, (s, e) in zip(tokens, labels, offsets)\n",
    "        if tok not in (\"[CLS]\", \"[SEP]\")\n",
    "    ]\n",
    "\n",
    "    # Склеиваем только сабтокены внутри одного слова\n",
    "    merged_tokens = []\n",
    "    for tok, lab, (s, e) in tokens_data:\n",
    "        if tok.startswith(\"##\") or (merged_tokens and tok in [\".\", \",\", \"!\", \"?\", \";\", \":\", \"-\", \"—\", \"–\", \"...\"]):\n",
    "            prev_tok, prev_lab, (ps, pe) = merged_tokens[-1]\n",
    "            merged_tokens[-1] = (prev_tok + tok[2:], prev_lab, (ps, e))\n",
    "        else:\n",
    "            merged_tokens.append((tok, lab, (s, e)))\n",
    "            \n",
    "    # Преобразуем в спаны, соблюдая BIO\n",
    "    spans = []\n",
    "    current_span = None\n",
    "    for tok, lab, (s, e) in merged_tokens:\n",
    "        if (current_span):\n",
    "            if current_span[2] == lab:\n",
    "                if \"B-\" in lab:\n",
    "                    current_span[1] = e\n",
    "                    continue\n",
    "        if (current_span):\n",
    "            spans.append(tuple(current_span))\n",
    "        current_span = [s, e, lab]\n",
    "        \n",
    "    if (current_span):\n",
    "        spans.append(tuple(current_span))\n",
    "            \n",
    "    return spans\n"
   ]
  },
  {
   "cell_type": "code",
   "execution_count": 28,
   "id": "6219318c",
   "metadata": {},
   "outputs": [],
   "source": [
    "def run_inference_csv(input_csv, output_csv, model, tokenizer, device=\"cuda\"):\n",
    "    df = pd.read_csv(input_csv, sep=';')\n",
    "\n",
    "    results = []\n",
    "    for _, row in df.iterrows():\n",
    "        text = row[0]  # первый столбец — текст\n",
    "        spans = predict_ner_spans(text, model, tokenizer, device=device)    \n",
    "        results.append({\"sample\": text, \"annotation\": spans})\n",
    "\n",
    "    pd.DataFrame(results).to_csv(output_csv, index=False, encoding=\"utf-8\", sep=';')\n",
    "    print(f\"✅ Результаты сохранены в {output_csv}\")\n"
   ]
  },
  {
   "cell_type": "code",
   "execution_count": 74,
   "id": "80accfda",
   "metadata": {},
   "outputs": [],
   "source": [
    "def run_inference_csv(input_csv, output_csv, model, tokenizer, device=\"cuda\", batch_size=512):\n",
    "    df = pd.read_csv(input_csv, sep=';')\n",
    "    texts = df.iloc[:, 0].tolist()  # все тексты в список\n",
    "    \n",
    "    results = []\n",
    "    for i in range(0, len(texts), batch_size):\n",
    "        batch_texts = texts[i:i + batch_size]\n",
    "        batch_spans = predict_ner_spans_batch(batch_texts, model, tokenizer, device=device)\n",
    "        \n",
    "        for text, spans in zip(batch_texts, batch_spans):\n",
    "            results.append({\"sample\": text, \"annotation\": spans})\n",
    "    \n",
    "    pd.DataFrame(results).to_csv(output_csv, index=False, encoding=\"utf-8\", sep=';')\n",
    "    print(f\"✅ Результаты сохранены в {output_csv}\")\n",
    "\n",
    "def predict_ner_spans_batch(texts, model, tokenizer, device=\"cuda\"):\n",
    "    # Токенизация батча\n",
    "    inputs = tokenizer(\n",
    "        texts, \n",
    "        return_tensors=\"pt\", \n",
    "        return_offsets_mapping=True, \n",
    "        padding=True, \n",
    "        truncation=True\n",
    "    )\n",
    "    \n",
    "    offset_mappings = inputs.pop(\"offset_mapping\")\n",
    "    inputs = {k: v.to(device) for k, v in inputs.items()}\n",
    "    \n",
    "    # Предсказание для всего батча\n",
    "    with torch.no_grad():\n",
    "        outputs = model(**inputs)\n",
    "    \n",
    "    logits = outputs.logits\n",
    "    pred_ids = torch.argmax(logits, dim=-1).cpu().numpy()\n",
    "    \n",
    "    all_batch_spans = []\n",
    "    \n",
    "    # Обрабатываем каждый пример в батче по отдельности\n",
    "    for i in range(len(texts)):\n",
    "        # Берем данные для одного примера - ВСЕ на CPU\n",
    "        input_ids = inputs[\"input_ids\"][i].cpu()\n",
    "        attention_mask = inputs[\"attention_mask\"][i].cpu()\n",
    "        offset_mapping = offset_mappings[i]  # уже на CPU\n",
    "        preds = pred_ids[i]\n",
    "        \n",
    "        # Убираем паддинг\n",
    "        valid_indices = attention_mask == 1\n",
    "        input_ids = input_ids[valid_indices]\n",
    "        offset_mapping = offset_mapping[valid_indices]\n",
    "        preds = preds[:len(input_ids)]  # обрезаем по длине без паддинга\n",
    "        \n",
    "        # Конвертируем в списки как в оригинальном коде\n",
    "        tokens = tokenizer.convert_ids_to_tokens(input_ids)\n",
    "        labels = [model.config.id2label[pred] for pred in preds]\n",
    "        offsets = offset_mapping.tolist()\n",
    "        \n",
    "        # Игнорируем спец-токены [CLS] и [SEP] - ВАША ЛОГИКА\n",
    "        tokens_data = []\n",
    "        for tok, lab, (s, e) in zip(tokens, labels, offsets):\n",
    "            if tok not in (\"[CLS]\", \"[SEP]\"):\n",
    "                tokens_data.append((tok, lab, (s, e)))\n",
    "        \n",
    "        # Склеиваем сабтокены - ВАША ЛОГИКА\n",
    "        merged_tokens = []\n",
    "        for tok, lab, (s, e) in tokens_data:\n",
    "            if tok.startswith(\"##\") or (merged_tokens and tok in [\".\", \",\", \"!\", \"?\", \";\", \":\", \"-\", \"—\", \"–\", \"...\"]):\n",
    "                prev_tok, prev_lab, (ps, pe) = merged_tokens[-1]\n",
    "                merged_tokens[-1] = (prev_tok + tok[2:], prev_lab, (ps, e))\n",
    "            else:\n",
    "                merged_tokens.append((tok, lab, (s, e)))\n",
    "        \n",
    "        # Преобразуем в спаны - ВАША ЛОГИКА\n",
    "        spans = []\n",
    "        current_span = None\n",
    "        for tok, lab, (s, e) in merged_tokens:\n",
    "            if current_span:\n",
    "                if current_span[2] == lab:\n",
    "                    if \"B-\" in lab:\n",
    "                        current_span[1] = e\n",
    "                        continue\n",
    "            if current_span:\n",
    "                spans.append(tuple(current_span))\n",
    "            current_span = [s, e, lab]\n",
    "            \n",
    "        if current_span:\n",
    "            spans.append(tuple(current_span))\n",
    "        \n",
    "        all_batch_spans.append(spans)\n",
    "    \n",
    "    return all_batch_spans\n",
    "\n",
    "# Сохраняем оригинальную функцию для обратной совместимости\n",
    "def predict_ner_spans(text, model, tokenizer, device=\"cuda\"):\n",
    "    return predict_ner_spans_batch([text], model, tokenizer, device=device)[0]"
   ]
  },
  {
   "cell_type": "code",
   "execution_count": 75,
   "id": "c90a96ec",
   "metadata": {},
   "outputs": [
    {
     "name": "stdout",
     "output_type": "stream",
     "text": [
      "✅ Результаты сохранены в submission_new.csv\n",
      "CPU times: user 949 ms, sys: 4.04 ms, total: 953 ms\n",
      "Wall time: 956 ms\n"
     ]
    }
   ],
   "source": [
    "%%time\n",
    "run_inference_csv(\"submission.csv\", \"submission_new.csv\", model1, tokenizer1, device=device)\n"
   ]
  },
  {
   "cell_type": "code",
   "execution_count": null,
   "id": "6b96c4dd",
   "metadata": {},
   "outputs": [],
   "source": []
  }
 ],
 "metadata": {
  "kernelspec": {
   "display_name": "Python 3 (ipykernel)",
   "language": "python",
   "name": "python3"
  },
  "language_info": {
   "codemirror_mode": {
    "name": "ipython",
    "version": 3
   },
   "file_extension": ".py",
   "mimetype": "text/x-python",
   "name": "python",
   "nbconvert_exporter": "python",
   "pygments_lexer": "ipython3",
   "version": "3.10.12"
  }
 },
 "nbformat": 4,
 "nbformat_minor": 5
}
