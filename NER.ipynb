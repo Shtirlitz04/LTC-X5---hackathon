{
 "cells": [
  {
   "cell_type": "code",
   "execution_count": 18,
   "id": "dc611cbd",
   "metadata": {},
   "outputs": [],
   "source": [
    "import ast\n",
    "import pandas as pd\n",
    "import transformers\n",
    "from datasets import Dataset, DatasetDict\n",
    "from transformers import AutoTokenizer, AutoModelForTokenClassification, DataCollatorForTokenClassification\n",
    "from transformers import TrainingArguments, Trainer\n",
    "import evaluate\n",
    "import torch\n",
    "from statistics import mean\n",
    "from pprint import pprint"
   ]
  },
  {
   "cell_type": "code",
   "execution_count": 2,
   "id": "dfca6cf1",
   "metadata": {},
   "outputs": [],
   "source": [
    "# === 1. Читаем Excel ===\n",
    "df = pd.read_csv(\"train.csv\", sep=';')\n",
    "df_t = pd.read_csv(\"submission.csv\", sep=';')\n",
    "\n",
    "# Список меток\n",
    "labels = ['O', 'B-BRAND', 'I-BRAND', 'B-TYPE', 'I-TYPE',\n",
    "          'B-PERCENT', 'I-PERCENT', 'B-VOLUME', 'I-VOLUME']\n",
    "label2id = {l: i for i, l in enumerate(labels)}\n",
    "id2label = {i: l for i, l in enumerate(labels)}"
   ]
  },
  {
   "cell_type": "code",
   "execution_count": 3,
   "id": "c07a7a5b",
   "metadata": {},
   "outputs": [],
   "source": [
    "# === 2. Преобразуем данные в токен+метки ===\n",
    "data = []\n",
    "for _, row in df.iterrows():\n",
    "    text = row[0]\n",
    "    spans = ast.literal_eval(row[1])  # список [(start, end, label), ...]\n",
    "\n",
    "    char_labels = [\"O\"] * len(text)\n",
    "    for start, end, tag in spans:\n",
    "        end = min(end, len(text))  # не выходим за границу\n",
    "        for i in range(start, end):\n",
    "            char_labels[i] = tag\n",
    "\n",
    "\n",
    "    tokens = text.split()\n",
    "    token_labels = []\n",
    "    offset = 0\n",
    "    for token in tokens:\n",
    "        token_len = len(token)\n",
    "        token_span_labels = char_labels[offset:offset + token_len]\n",
    "        tag = \"O\"\n",
    "        for l in token_span_labels:\n",
    "            if l != \"O\":\n",
    "                tag = l\n",
    "                break\n",
    "        token_labels.append(tag)\n",
    "        offset += token_len + 1\n",
    "\n",
    "    token_labels = [l if l != \"0\" else \"O\" for l in token_labels]\n",
    "    data.append({\"tokens\": tokens, \"labels\": [label2id[l] for l in token_labels]})\n",
    "\n",
    "dataset = Dataset.from_list(data)"
   ]
  },
  {
   "cell_type": "code",
   "execution_count": 4,
   "id": "b73d305d",
   "metadata": {},
   "outputs": [],
   "source": [
    "data_t = []\n",
    "for _, row in df_t.iterrows():\n",
    "    text = row[0]\n",
    "    spans = ast.literal_eval(row[1])  # список [(start, end, label), ...]\n",
    "\n",
    "    char_labels = [\"O\"] * len(text)\n",
    "    for start, end, tag in spans:\n",
    "        end = min(end, len(text))  # не выходим за границу\n",
    "        for i in range(start, end):\n",
    "            char_labels[i] = tag\n",
    "\n",
    "\n",
    "    tokens = text.split()\n",
    "    token_labels = []\n",
    "    offset = 0\n",
    "    for token in tokens:\n",
    "        token_len = len(token)\n",
    "        token_span_labels = char_labels[offset:offset + token_len]\n",
    "        tag = \"O\"\n",
    "        for l in token_span_labels:\n",
    "            if l != \"O\":\n",
    "                tag = l\n",
    "                break\n",
    "        token_labels.append(tag)\n",
    "        offset += token_len + 1\n",
    "\n",
    "    #token_labels = [l if l != \"0\" else \"O\" for l in token_labels]\n",
    "    data_t.append({\"tokens\": tokens, \"labels\": [label2id[l] for l in token_labels]})\n",
    "\n",
    "dataset_t = Dataset.from_list(data_t)"
   ]
  },
  {
   "cell_type": "code",
   "execution_count": 5,
   "id": "4cf784bb",
   "metadata": {},
   "outputs": [],
   "source": [
    "# === 3. Загружаем токенайзер и модель ===\n",
    "model_name = \"DeepPavlov/rubert-base-cased\"\n",
    "tokenizer = AutoTokenizer.from_pretrained(model_name)"
   ]
  },
  {
   "cell_type": "code",
   "execution_count": 6,
   "id": "eb00d8a5",
   "metadata": {},
   "outputs": [],
   "source": [
    "def tokenize_and_align_labels(example):\n",
    "    tokenized = tokenizer(example[\"tokens\"],\n",
    "                          is_split_into_words=True,\n",
    "                          truncation=True,\n",
    "                          padding=\"max_length\",\n",
    "                          max_length=128)\n",
    "\n",
    "    word_ids = tokenized.word_ids(batch_index=0)  # соответствие токен -> слово\n",
    "    label_ids = []\n",
    "    previous_word_idx = None\n",
    "    for word_idx in word_ids:\n",
    "        if word_idx is None:\n",
    "            label_ids.append(-100)  # игнорируем паддинг\n",
    "        elif word_idx != previous_word_idx:\n",
    "            label_ids.append(example[\"labels\"][word_idx])\n",
    "        else:\n",
    "            # Для сабтокенов ставим I-* если это не \"O\"\n",
    "            label_ids.append(\n",
    "                example[\"labels\"][word_idx]\n",
    "                if labels[example[\"labels\"][word_idx]] != \"O\"\n",
    "                else -100\n",
    "            )\n",
    "        previous_word_idx = word_idx\n",
    "\n",
    "    tokenized[\"labels\"] = label_ids\n",
    "    return tokenized"
   ]
  },
  {
   "cell_type": "code",
   "execution_count": 7,
   "id": "624f2fcf",
   "metadata": {},
   "outputs": [
    {
     "name": "stderr",
     "output_type": "stream",
     "text": [
      "Map: 100%|███████████████████████████████████████████████████████████████| 24525/24525 [00:06<00:00, 3739.89 examples/s]\n",
      "Map: 100%|█████████████████████████████████████████████████████████████████| 2726/2726 [00:00<00:00, 3759.88 examples/s]\n"
     ]
    }
   ],
   "source": [
    "dataset = dataset.train_test_split(test_size=0.1, seed=42)\n",
    "\n",
    "encoded_dataset = dataset.map(tokenize_and_align_labels)\n",
    "#encoded_dataset_t = dataset_t.map(tokenize_and_align_labels)\n",
    "\n",
    "#combined_dataset = DatasetDict({\n",
    "#    \"train\": encoded_dataset,\n",
    "#    \"test\": encoded_dataset_t\n",
    "#})"
   ]
  },
  {
   "cell_type": "code",
   "execution_count": 21,
   "id": "f051f595",
   "metadata": {},
   "outputs": [
    {
     "name": "stderr",
     "output_type": "stream",
     "text": [
      "Some weights of BertForTokenClassification were not initialized from the model checkpoint at DeepPavlov/rubert-base-cased and are newly initialized: ['classifier.bias', 'classifier.weight']\n",
      "You should probably TRAIN this model on a down-stream task to be able to use it for predictions and inference.\n"
     ]
    }
   ],
   "source": [
    "# === 4. Готовим модель ===\n",
    "model = AutoModelForTokenClassification.from_pretrained(\n",
    "    model_name,\n",
    "    num_labels=len(labels),\n",
    "    id2label=id2label,\n",
    "    label2id=label2id,\n",
    "    output_hidden_states=True\n",
    ")"
   ]
  },
  {
   "cell_type": "code",
   "execution_count": 9,
   "id": "74ee86a7",
   "metadata": {},
   "outputs": [],
   "source": [
    "# === 5. Тренировка ===\n",
    "training_args = TrainingArguments(\n",
    "    output_dir=\"./ner_rubert\",\n",
    "    #evaluation_strategy=\"no\",\n",
    "    save_strategy=\"epoch\",\n",
    "    learning_rate=2e-5,\n",
    "    per_device_train_batch_size=16,\n",
    "    per_device_eval_batch_size=16,\n",
    "    num_train_epochs=5,\n",
    "    weight_decay=0.01,\n",
    "    logging_dir=\"./logs\",\n",
    ")"
   ]
  },
  {
   "cell_type": "code",
   "execution_count": 10,
   "id": "9ad9dac7",
   "metadata": {},
   "outputs": [],
   "source": [
    "data_collator = DataCollatorForTokenClassification(tokenizer)"
   ]
  },
  {
   "cell_type": "code",
   "execution_count": 23,
   "id": "c8e83358",
   "metadata": {},
   "outputs": [
    {
     "name": "stderr",
     "output_type": "stream",
     "text": [
      "/tmp/ipykernel_886292/3687250174.py:2: FutureWarning: `tokenizer` is deprecated and will be removed in version 5.0.0 for `Trainer.__init__`. Use `processing_class` instead.\n",
      "  trainer = Trainer(\n"
     ]
    }
   ],
   "source": [
    "# === 6. Trainer ===\n",
    "trainer = Trainer(\n",
    "    model=model,\n",
    "    args=training_args,\n",
    "    train_dataset=encoded_dataset[\"train\"],\n",
    "    eval_dataset=encoded_dataset[\"test\"],\n",
    "    tokenizer=tokenizer,\n",
    "    data_collator=data_collator\n",
    ")"
   ]
  },
  {
   "cell_type": "code",
   "execution_count": 24,
   "id": "b905ff59",
   "metadata": {
    "scrolled": false
   },
   "outputs": [
    {
     "data": {
      "text/html": [
       "\n",
       "    <div>\n",
       "      \n",
       "      <progress value='7665' max='7665' style='width:300px; height:20px; vertical-align: middle;'></progress>\n",
       "      [7665/7665 04:38, Epoch 5/5]\n",
       "    </div>\n",
       "    <table border=\"1\" class=\"dataframe\">\n",
       "  <thead>\n",
       " <tr style=\"text-align: left;\">\n",
       "      <th>Step</th>\n",
       "      <th>Training Loss</th>\n",
       "    </tr>\n",
       "  </thead>\n",
       "  <tbody>\n",
       "    <tr>\n",
       "      <td>500</td>\n",
       "      <td>0.382300</td>\n",
       "    </tr>\n",
       "    <tr>\n",
       "      <td>1000</td>\n",
       "      <td>0.226800</td>\n",
       "    </tr>\n",
       "    <tr>\n",
       "      <td>1500</td>\n",
       "      <td>0.199700</td>\n",
       "    </tr>\n",
       "    <tr>\n",
       "      <td>2000</td>\n",
       "      <td>0.144100</td>\n",
       "    </tr>\n",
       "    <tr>\n",
       "      <td>2500</td>\n",
       "      <td>0.131300</td>\n",
       "    </tr>\n",
       "    <tr>\n",
       "      <td>3000</td>\n",
       "      <td>0.135100</td>\n",
       "    </tr>\n",
       "    <tr>\n",
       "      <td>3500</td>\n",
       "      <td>0.086800</td>\n",
       "    </tr>\n",
       "    <tr>\n",
       "      <td>4000</td>\n",
       "      <td>0.088900</td>\n",
       "    </tr>\n",
       "    <tr>\n",
       "      <td>4500</td>\n",
       "      <td>0.086200</td>\n",
       "    </tr>\n",
       "    <tr>\n",
       "      <td>5000</td>\n",
       "      <td>0.060000</td>\n",
       "    </tr>\n",
       "    <tr>\n",
       "      <td>5500</td>\n",
       "      <td>0.054300</td>\n",
       "    </tr>\n",
       "    <tr>\n",
       "      <td>6000</td>\n",
       "      <td>0.060200</td>\n",
       "    </tr>\n",
       "    <tr>\n",
       "      <td>6500</td>\n",
       "      <td>0.044900</td>\n",
       "    </tr>\n",
       "    <tr>\n",
       "      <td>7000</td>\n",
       "      <td>0.035300</td>\n",
       "    </tr>\n",
       "    <tr>\n",
       "      <td>7500</td>\n",
       "      <td>0.033800</td>\n",
       "    </tr>\n",
       "  </tbody>\n",
       "</table><p>"
      ],
      "text/plain": [
       "<IPython.core.display.HTML object>"
      ]
     },
     "metadata": {},
     "output_type": "display_data"
    },
    {
     "data": {
      "text/plain": [
       "TrainOutput(global_step=7665, training_loss=0.11605108495016776, metrics={'train_runtime': 278.4359, 'train_samples_per_second': 440.407, 'train_steps_per_second': 27.529, 'total_flos': 8010885662507008.0, 'train_loss': 0.11605108495016776, 'epoch': 5.0})"
      ]
     },
     "execution_count": 24,
     "metadata": {},
     "output_type": "execute_result"
    }
   ],
   "source": [
    "trainer.train()"
   ]
  },
  {
   "cell_type": "code",
   "execution_count": 13,
   "id": "efbd2fb7",
   "metadata": {},
   "outputs": [
    {
     "data": {
      "text/plain": [
       "('./saved_model_4/tokenizer_config.json',\n",
       " './saved_model_4/special_tokens_map.json',\n",
       " './saved_model_4/vocab.txt',\n",
       " './saved_model_4/added_tokens.json',\n",
       " './saved_model_4/tokenizer.json')"
      ]
     },
     "execution_count": 13,
     "metadata": {},
     "output_type": "execute_result"
    }
   ],
   "source": [
    "# Не забываем увеличивать каждый раз номер, чтобы сохранить все вариации\n",
    "model.save_pretrained(\"./saved_model_4\")\n",
    "tokenizer.save_pretrained(\"./saved_model_4\")"
   ]
  },
  {
   "cell_type": "code",
   "execution_count": 32,
   "id": "f19986d7",
   "metadata": {},
   "outputs": [
    {
     "name": "stdout",
     "output_type": "stream",
     "text": [
      "\n"
     ]
    }
   ],
   "source": [
    "model_path = \"./saved_model_4\"  # путь к сохранённой модели\n",
    "\n",
    "tokenizer1 = AutoTokenizer.from_pretrained(model_path)\n",
    "model1 = AutoModelForTokenClassification.from_pretrained(model_path)\n",
    "\n",
    "device = torch.device(\"cuda\" if torch.cuda.is_available() else \"cpu\")\n",
    "model1.to(device)\n",
    "model1.eval()  # переводим в режим инференса\n",
    "print()"
   ]
  },
  {
   "cell_type": "code",
   "execution_count": 25,
   "id": "414e055f",
   "metadata": {},
   "outputs": [],
   "source": [
    "def predict_ner(text, model, tokenizer):\n",
    "    # Токенизация\n",
    "    inputs = tokenizer(text, return_tensors=\"pt\")\n",
    "    inputs = {k: v.to(device) for k, v in inputs.items()}\n",
    "\n",
    "    # Предсказание\n",
    "    with torch.no_grad():\n",
    "        outputs = model(**inputs)\n",
    "    logits = outputs.logits\n",
    "    pred_ids = torch.argmax(logits, dim=-1).squeeze().tolist()\n",
    "\n",
    "    # Сопоставление токенов с метками\n",
    "    tokens = tokenizer.convert_ids_to_tokens(inputs[\"input_ids\"].squeeze())\n",
    "    labels = [model.config.id2label[i] for i in pred_ids]\n",
    "\n",
    "    # Игнорируем спец-токены [CLS] и [SEP]\n",
    "    tokens_labels = [(t, l) for t, l in zip(tokens, labels) if t not in (\"[CLS]\", \"[SEP]\")]\n",
    "\n",
    "    # Склеиваем подслова\n",
    "    merged_tokens, merged_labels = [], []\n",
    "    for t, l in tokens_labels:\n",
    "        if t.startswith(\"##\"):\n",
    "            merged_tokens[-1] += t[2:]\n",
    "        else:\n",
    "            merged_tokens.append(t)\n",
    "            merged_labels.append(l)\n",
    "\n",
    "    return list(zip(merged_tokens, merged_labels))\n"
   ]
  },
  {
   "cell_type": "code",
   "execution_count": 39,
   "id": "a031313b",
   "metadata": {},
   "outputs": [
    {
     "name": "stdout",
     "output_type": "stream",
     "text": [
      "alpin           -> B-BRAND\n",
      "gold            -> I-BRAND\n",
      "he              -> O\n"
     ]
    }
   ],
   "source": [
    "text1 = \"b-brand с клубникой\"\n",
    "text = \"alpin gold he\"\n",
    "result = predict_ner(text, model, tokenizer)\n",
    "\n",
    "for token, label in result:\n",
    "    print(f\"{token:15} -> {label}\")"
   ]
  },
  {
   "cell_type": "code",
   "execution_count": 33,
   "id": "0692dae0",
   "metadata": {},
   "outputs": [],
   "source": [
    "def compute_metrics(p):\n",
    "    predictions, labels = p\n",
    "    predictions = predictions.argmax(axis=-1)\n",
    "\n",
    "    true_labels = []\n",
    "    true_predictions = []\n",
    "\n",
    "    # Восстанавливаем word-level метки, игнорируя паддинги (-100)\n",
    "    for pred, lab in zip(predictions, labels):\n",
    "        cur_preds = []\n",
    "        cur_labels = []\n",
    "        for p_i, l_i in zip(pred, lab):\n",
    "            if l_i != -100:\n",
    "                cur_preds.append(id2label[p_i])\n",
    "                cur_labels.append(id2label[l_i])\n",
    "        true_predictions.append(cur_preds)\n",
    "        true_labels.append(cur_labels)\n",
    "\n",
    "    # Вычисляем метрики seqeval\n",
    "    results = metric.compute(predictions=true_predictions, references=true_labels)\n",
    "\n",
    "    # Собираем micro метрики (overall_*)\n",
    "    metrics = {\n",
    "        \"precision_micro\": results.get(\"overall_precision\", 0.0),\n",
    "        \"recall_micro\": results.get(\"overall_recall\", 0.0),\n",
    "        \"f1_micro\": results.get(\"overall_f1\", 0.0),\n",
    "        \"accuracy\": results.get(\"overall_accuracy\", 0.0),\n",
    "    }\n",
    "\n",
    "    # Macro-F1 = среднее F1 по всем существующим классам\n",
    "    f1_per_class = [\n",
    "        results[label].get(\"f1\", 0.0)   # <- используем ключ 'f1', не 'f1-score'\n",
    "        for label in results\n",
    "        if label not in [\"overall_precision\",\"overall_recall\",\"overall_f1\",\"overall_accuracy\"]\n",
    "    ]\n",
    "    metrics[\"f1_macro\"] = mean(f1_per_class) if f1_per_class else 0.0\n",
    "\n",
    "    # F1/precision/recall по каждому классу\n",
    "    for label in results:\n",
    "        if label not in [\"overall_precision\",\"overall_recall\",\"overall_f1\",\"overall_accuracy\"]:\n",
    "            metrics[f\"{label}_precision\"] = results[label].get(\"precision\", 0.0)\n",
    "            metrics[f\"{label}_recall\"] = results[label].get(\"recall\", 0.0)\n",
    "            metrics[f\"{label}_f1\"] = results[label].get(\"f1\", 0.0)\n",
    "\n",
    "    return metrics"
   ]
  },
  {
   "cell_type": "code",
   "execution_count": 34,
   "id": "96dfa7e4",
   "metadata": {},
   "outputs": [],
   "source": [
    "metric = evaluate.load(\"seqeval\")"
   ]
  },
  {
   "cell_type": "code",
   "execution_count": 19,
   "id": "03e93088",
   "metadata": {},
   "outputs": [
    {
     "name": "stderr",
     "output_type": "stream",
     "text": [
      "Map: 100%|█████████████████████████████████████████████████████████████████| 5000/5000 [00:01<00:00, 4327.97 examples/s]\n"
     ]
    }
   ],
   "source": [
    "encoded_dataset_t = dataset_t.map(tokenize_and_align_labels)"
   ]
  },
  {
   "cell_type": "code",
   "execution_count": 35,
   "id": "722f3a7c",
   "metadata": {},
   "outputs": [
    {
     "name": "stderr",
     "output_type": "stream",
     "text": [
      "/tmp/ipykernel_886292/2974128623.py:1: FutureWarning: `tokenizer` is deprecated and will be removed in version 5.0.0 for `Trainer.__init__`. Use `processing_class` instead.\n",
      "  trainer_t = Trainer(\n"
     ]
    },
    {
     "data": {
      "text/html": [
       "\n",
       "    <div>\n",
       "      \n",
       "      <progress value='341' max='341' style='width:300px; height:20px; vertical-align: middle;'></progress>\n",
       "      [341/341 00:03]\n",
       "    </div>\n",
       "    "
      ],
      "text/plain": [
       "<IPython.core.display.HTML object>"
      ]
     },
     "metadata": {},
     "output_type": "display_data"
    },
    {
     "name": "stdout",
     "output_type": "stream",
     "text": [
      "{'eval_BRAND_f1': 0.9333333333333333,\n",
      " 'eval_BRAND_precision': 0.9321824907521579,\n",
      " 'eval_BRAND_recall': 0.934487021013597,\n",
      " 'eval_PERCENT_f1': 1.0,\n",
      " 'eval_PERCENT_precision': 1.0,\n",
      " 'eval_PERCENT_recall': 1.0,\n",
      " 'eval_TYPE_f1': 0.9756581319870177,\n",
      " 'eval_TYPE_precision': 0.9725017972681524,\n",
      " 'eval_TYPE_recall': 0.97883502170767,\n",
      " 'eval_VOLUME_f1': 0.9,\n",
      " 'eval_VOLUME_precision': 0.8181818181818182,\n",
      " 'eval_VOLUME_recall': 1.0,\n",
      " 'eval_accuracy': 0.96415770609319,\n",
      " 'eval_f1_macro': 0.9522478663300877,\n",
      " 'eval_f1_micro': 0.966016713091922,\n",
      " 'eval_loss': 0.20582997798919678,\n",
      " 'eval_model_preparation_time': 0.0028,\n",
      " 'eval_precision_micro': 0.9631995556172753,\n",
      " 'eval_recall_micro': 0.9688503981002934,\n",
      " 'eval_runtime': 3.6982,\n",
      " 'eval_samples_per_second': 737.118,\n",
      " 'eval_steps_per_second': 92.207}\n"
     ]
    }
   ],
   "source": [
    "trainer_t = Trainer(\n",
    "    model=model1,\n",
    "    tokenizer=tokenizer1,\n",
    "    compute_metrics=compute_metrics\n",
    ")\n",
    "\n",
    "# Прогоняем тестовый датасет\n",
    "results = trainer_t.evaluate(encoded_dataset[\"test\"])\n",
    "pprint(results)"
   ]
  },
  {
   "cell_type": "code",
   "execution_count": null,
   "id": "375a38a7",
   "metadata": {},
   "outputs": [],
   "source": []
  }
 ],
 "metadata": {
  "kernelspec": {
   "display_name": "Python 3 (ipykernel)",
   "language": "python",
   "name": "python3"
  },
  "language_info": {
   "codemirror_mode": {
    "name": "ipython",
    "version": 3
   },
   "file_extension": ".py",
   "mimetype": "text/x-python",
   "name": "python",
   "nbconvert_exporter": "python",
   "pygments_lexer": "ipython3",
   "version": "3.10.12"
  }
 },
 "nbformat": 4,
 "nbformat_minor": 5
}
